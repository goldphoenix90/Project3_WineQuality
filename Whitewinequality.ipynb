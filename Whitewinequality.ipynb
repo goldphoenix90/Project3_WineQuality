{
 "cells": [
  {
   "cell_type": "code",
   "execution_count": 2,
   "metadata": {},
   "outputs": [],
   "source": [
    "# Set the seed value for the notebook so the results are reproducible\n",
    "from numpy.random import seed\n",
    "seed(1)"
   ]
  },
  {
   "cell_type": "code",
   "execution_count": 3,
   "metadata": {
    "slideshow": {
     "slide_type": "subslide"
    }
   },
   "outputs": [],
   "source": [
    "# Dependencies\n",
    "import numpy as np\n",
    "import pandas as pd"
   ]
  },
  {
   "cell_type": "code",
   "execution_count": 4,
   "metadata": {},
   "outputs": [
    {
     "name": "stderr",
     "output_type": "stream",
     "text": [
      "Using TensorFlow backend.\n"
     ]
    },
    {
     "data": {
      "text/plain": [
       "'2.3.1'"
      ]
     },
     "execution_count": 4,
     "metadata": {},
     "output_type": "execute_result"
    }
   ],
   "source": [
    "import keras\n",
    "keras.__version__"
   ]
  },
  {
   "cell_type": "code",
   "execution_count": 94,
   "metadata": {},
   "outputs": [],
   "source": [
    "# Data Set Information:\n",
    "\n",
    "# The two datasets are related to red and white variants of the Portuguese \"Vinho Verde\" wine. For more details, consult: [Web Link] or the reference [Cortez et al., 2009]. Due to privacy and logistic issues, only physicochemical (inputs) and sensory (the output) variables are available (e.g. there is no data about grape types, wine brand, wine selling price, etc.).\n",
    "\n",
    "# These datasets can be viewed as classification or regression tasks. The classes are ordered and not balanced (e.g. there are many more normal wines than excellent or poor ones). Outlier detection algorithms could be used to detect the few excellent or poor wines. Also, we are not sure if all input variables are relevant. So it could be interesting to test feature selection methods.\n",
    "\n",
    "\n",
    "# Attribute Information:\n",
    "\n",
    "# For more information, read [Cortez et al., 2009].\n",
    "# Input variables (based on physicochemical tests):\n",
    "# 1 - fixed acidity\n",
    "# 2 - volatile acidity\n",
    "# 3 - citric acid\n",
    "# 4 - residual sugar\n",
    "# 5 - chlorides\n",
    "# 6 - free sulfur dioxide\n",
    "# 7 - total sulfur dioxide\n",
    "# 8 - density\n",
    "# 9 - pH\n",
    "# 10 - sulphates\n",
    "# 11 - alcohol\n",
    "# Output variable (based on sensory data):\n",
    "# 12 - quality (score between 0 and 10)"
   ]
  },
  {
   "cell_type": "code",
   "execution_count": 5,
   "metadata": {
    "slideshow": {
     "slide_type": "fragment"
    }
   },
   "outputs": [
    {
     "data": {
      "text/html": [
       "<div>\n",
       "<style scoped>\n",
       "    .dataframe tbody tr th:only-of-type {\n",
       "        vertical-align: middle;\n",
       "    }\n",
       "\n",
       "    .dataframe tbody tr th {\n",
       "        vertical-align: top;\n",
       "    }\n",
       "\n",
       "    .dataframe thead th {\n",
       "        text-align: right;\n",
       "    }\n",
       "</style>\n",
       "<table border=\"1\" class=\"dataframe\">\n",
       "  <thead>\n",
       "    <tr style=\"text-align: right;\">\n",
       "      <th></th>\n",
       "      <th>fixed acidity</th>\n",
       "      <th>volatile acidity</th>\n",
       "      <th>citric acid</th>\n",
       "      <th>residual sugar</th>\n",
       "      <th>chlorides</th>\n",
       "      <th>free sulfur dioxide</th>\n",
       "      <th>total sulfur dioxide</th>\n",
       "      <th>density</th>\n",
       "      <th>pH</th>\n",
       "      <th>sulphates</th>\n",
       "      <th>alcohol</th>\n",
       "      <th>quality</th>\n",
       "    </tr>\n",
       "  </thead>\n",
       "  <tbody>\n",
       "    <tr>\n",
       "      <th>0</th>\n",
       "      <td>7.0</td>\n",
       "      <td>0.27</td>\n",
       "      <td>0.36</td>\n",
       "      <td>20.7</td>\n",
       "      <td>0.045</td>\n",
       "      <td>45.0</td>\n",
       "      <td>170.0</td>\n",
       "      <td>1.0010</td>\n",
       "      <td>3.00</td>\n",
       "      <td>0.45</td>\n",
       "      <td>8.8</td>\n",
       "      <td>6</td>\n",
       "    </tr>\n",
       "    <tr>\n",
       "      <th>1</th>\n",
       "      <td>6.3</td>\n",
       "      <td>0.30</td>\n",
       "      <td>0.34</td>\n",
       "      <td>1.6</td>\n",
       "      <td>0.049</td>\n",
       "      <td>14.0</td>\n",
       "      <td>132.0</td>\n",
       "      <td>0.9940</td>\n",
       "      <td>3.30</td>\n",
       "      <td>0.49</td>\n",
       "      <td>9.5</td>\n",
       "      <td>6</td>\n",
       "    </tr>\n",
       "    <tr>\n",
       "      <th>2</th>\n",
       "      <td>8.1</td>\n",
       "      <td>0.28</td>\n",
       "      <td>0.40</td>\n",
       "      <td>6.9</td>\n",
       "      <td>0.050</td>\n",
       "      <td>30.0</td>\n",
       "      <td>97.0</td>\n",
       "      <td>0.9951</td>\n",
       "      <td>3.26</td>\n",
       "      <td>0.44</td>\n",
       "      <td>10.1</td>\n",
       "      <td>6</td>\n",
       "    </tr>\n",
       "    <tr>\n",
       "      <th>3</th>\n",
       "      <td>7.2</td>\n",
       "      <td>0.23</td>\n",
       "      <td>0.32</td>\n",
       "      <td>8.5</td>\n",
       "      <td>0.058</td>\n",
       "      <td>47.0</td>\n",
       "      <td>186.0</td>\n",
       "      <td>0.9956</td>\n",
       "      <td>3.19</td>\n",
       "      <td>0.40</td>\n",
       "      <td>9.9</td>\n",
       "      <td>6</td>\n",
       "    </tr>\n",
       "    <tr>\n",
       "      <th>4</th>\n",
       "      <td>7.2</td>\n",
       "      <td>0.23</td>\n",
       "      <td>0.32</td>\n",
       "      <td>8.5</td>\n",
       "      <td>0.058</td>\n",
       "      <td>47.0</td>\n",
       "      <td>186.0</td>\n",
       "      <td>0.9956</td>\n",
       "      <td>3.19</td>\n",
       "      <td>0.40</td>\n",
       "      <td>9.9</td>\n",
       "      <td>6</td>\n",
       "    </tr>\n",
       "  </tbody>\n",
       "</table>\n",
       "</div>"
      ],
      "text/plain": [
       "   fixed acidity  volatile acidity  citric acid  residual sugar  chlorides  \\\n",
       "0            7.0              0.27         0.36            20.7      0.045   \n",
       "1            6.3              0.30         0.34             1.6      0.049   \n",
       "2            8.1              0.28         0.40             6.9      0.050   \n",
       "3            7.2              0.23         0.32             8.5      0.058   \n",
       "4            7.2              0.23         0.32             8.5      0.058   \n",
       "\n",
       "   free sulfur dioxide  total sulfur dioxide  density    pH  sulphates  \\\n",
       "0                 45.0                 170.0   1.0010  3.00       0.45   \n",
       "1                 14.0                 132.0   0.9940  3.30       0.49   \n",
       "2                 30.0                  97.0   0.9951  3.26       0.44   \n",
       "3                 47.0                 186.0   0.9956  3.19       0.40   \n",
       "4                 47.0                 186.0   0.9956  3.19       0.40   \n",
       "\n",
       "   alcohol  quality  \n",
       "0      8.8        6  \n",
       "1      9.5        6  \n",
       "2     10.1        6  \n",
       "3      9.9        6  \n",
       "4      9.9        6  "
      ]
     },
     "execution_count": 5,
     "metadata": {},
     "output_type": "execute_result"
    }
   ],
   "source": [
    "survey = pd.read_csv('Resources/winequality-white.csv')\n",
    "survey.head()"
   ]
  },
  {
   "cell_type": "markdown",
   "metadata": {
    "slideshow": {
     "slide_type": "subslide"
    }
   },
   "source": [
    "## Data Pre-Processing"
   ]
  },
  {
   "cell_type": "code",
   "execution_count": 7,
   "metadata": {
    "nbgrader": {
     "grade": false,
     "grade_id": "cell-86a9e3212f200d21",
     "locked": false,
     "schema_version": 1,
     "solution": true
    },
    "slideshow": {
     "slide_type": "subslide"
    }
   },
   "outputs": [
    {
     "name": "stdout",
     "output_type": "stream",
     "text": [
      "(4898, 11) (4898,)\n"
     ]
    }
   ],
   "source": [
    "X = survey.drop(\"quality\", axis=1)\n",
    "y = survey[\"quality\"]\n",
    "print(X.shape, y.shape)"
   ]
  },
  {
   "cell_type": "code",
   "execution_count": 8,
   "metadata": {
    "nbgrader": {
     "grade": false,
     "grade_id": "cell-711a82d9b32c83ff",
     "locked": false,
     "schema_version": 1,
     "solution": true
    },
    "slideshow": {
     "slide_type": "fragment"
    }
   },
   "outputs": [],
   "source": [
    "from sklearn.model_selection import train_test_split\n",
    "from sklearn.preprocessing import LabelEncoder, MinMaxScaler\n",
    "from keras.utils import to_categorical"
   ]
  },
  {
   "cell_type": "code",
   "execution_count": 9,
   "metadata": {
    "nbgrader": {
     "grade": false,
     "grade_id": "cell-711a82d9b32c83ff",
     "locked": false,
     "schema_version": 1,
     "solution": true
    },
    "slideshow": {
     "slide_type": "fragment"
    }
   },
   "outputs": [],
   "source": [
    "X_train, X_test, y_train, y_test = train_test_split(\n",
    "    X, y, random_state=1, stratify=y, train_size=0.75, test_size=0.25)\n"
   ]
  },
  {
   "cell_type": "code",
   "execution_count": 10,
   "metadata": {
    "nbgrader": {
     "grade": false,
     "grade_id": "cell-711a82d9b32c83ff",
     "locked": false,
     "schema_version": 1,
     "solution": true
    },
    "slideshow": {
     "slide_type": "fragment"
    }
   },
   "outputs": [],
   "source": [
    "X_scaler = MinMaxScaler().fit(X_train)\n",
    "X_train_scaled = X_scaler.transform(X_train)\n",
    "X_test_scaled = X_scaler.transform(X_test)"
   ]
  },
  {
   "cell_type": "code",
   "execution_count": 11,
   "metadata": {
    "nbgrader": {
     "grade": false,
     "grade_id": "cell-711a82d9b32c83ff",
     "locked": false,
     "schema_version": 1,
     "solution": true
    },
    "slideshow": {
     "slide_type": "fragment"
    }
   },
   "outputs": [],
   "source": [
    "# Step 1: Label-encode data set\n",
    "label_encoder = LabelEncoder()\n",
    "label_encoder.fit(y_train)\n",
    "encoded_y_train = label_encoder.transform(y_train)\n",
    "encoded_y_test = label_encoder.transform(y_test)"
   ]
  },
  {
   "cell_type": "code",
   "execution_count": 12,
   "metadata": {
    "nbgrader": {
     "grade": false,
     "grade_id": "cell-711a82d9b32c83ff",
     "locked": false,
     "schema_version": 1,
     "solution": true
    },
    "slideshow": {
     "slide_type": "fragment"
    }
   },
   "outputs": [],
   "source": [
    "# Step 2: Convert encoded labels to one-hot-encoding\n",
    "y_train_categorical = to_categorical(encoded_y_train)\n",
    "y_test_categorical = to_categorical(encoded_y_test)"
   ]
  },
  {
   "cell_type": "markdown",
   "metadata": {},
   "source": [
    "# Create a Deep Learning Model"
   ]
  },
  {
   "cell_type": "code",
   "execution_count": 20,
   "metadata": {},
   "outputs": [],
   "source": [
    "from keras.models import Sequential\n",
    "from keras.layers import Dense"
   ]
  },
  {
   "cell_type": "code",
   "execution_count": 21,
   "metadata": {},
   "outputs": [],
   "source": [
    "# Create model and add layers\n",
    "model = Sequential()\n",
    "model.add(Dense(units=100, activation='relu', input_dim=11))\n",
    "model.add(Dense(units=100, activation='relu'))\n",
    "model.add(Dense(units=100, activation='relu'))\n",
    "model.add(Dense(units=100, activation='relu'))\n",
    "model.add(Dense(units=7, activation='softmax'))"
   ]
  },
  {
   "cell_type": "code",
   "execution_count": 22,
   "metadata": {},
   "outputs": [],
   "source": [
    "# Compile and fit the model\n",
    "model.compile(optimizer='adam',\n",
    "              loss='categorical_crossentropy',\n",
    "              metrics=['accuracy'])"
   ]
  },
  {
   "cell_type": "code",
   "execution_count": 23,
   "metadata": {},
   "outputs": [
    {
     "name": "stdout",
     "output_type": "stream",
     "text": [
      "Model: \"sequential_2\"\n",
      "_________________________________________________________________\n",
      "Layer (type)                 Output Shape              Param #   \n",
      "=================================================================\n",
      "dense_5 (Dense)              (None, 100)               1200      \n",
      "_________________________________________________________________\n",
      "dense_6 (Dense)              (None, 100)               10100     \n",
      "_________________________________________________________________\n",
      "dense_7 (Dense)              (None, 100)               10100     \n",
      "_________________________________________________________________\n",
      "dense_8 (Dense)              (None, 100)               10100     \n",
      "_________________________________________________________________\n",
      "dense_9 (Dense)              (None, 7)                 707       \n",
      "=================================================================\n",
      "Total params: 32,207\n",
      "Trainable params: 32,207\n",
      "Non-trainable params: 0\n",
      "_________________________________________________________________\n"
     ]
    }
   ],
   "source": [
    "model.summary()"
   ]
  },
  {
   "cell_type": "code",
   "execution_count": 24,
   "metadata": {},
   "outputs": [
    {
     "name": "stdout",
     "output_type": "stream",
     "text": [
      "Epoch 1/100\n",
      " - 1s - loss: 1.3239 - accuracy: 0.4623\n",
      "Epoch 2/100\n",
      " - 0s - loss: 1.1545 - accuracy: 0.5029\n",
      "Epoch 3/100\n",
      " - 0s - loss: 1.1262 - accuracy: 0.5121\n",
      "Epoch 4/100\n",
      " - 0s - loss: 1.1172 - accuracy: 0.5219\n",
      "Epoch 5/100\n",
      " - 0s - loss: 1.1142 - accuracy: 0.5214\n",
      "Epoch 6/100\n",
      " - 0s - loss: 1.0991 - accuracy: 0.5372\n",
      "Epoch 7/100\n",
      " - 0s - loss: 1.0862 - accuracy: 0.5399\n",
      "Epoch 8/100\n",
      " - 0s - loss: 1.0812 - accuracy: 0.5385\n",
      "Epoch 9/100\n",
      " - 0s - loss: 1.0673 - accuracy: 0.5546\n",
      "Epoch 10/100\n",
      " - 0s - loss: 1.0591 - accuracy: 0.5554\n",
      "Epoch 11/100\n",
      " - 0s - loss: 1.0581 - accuracy: 0.5475\n",
      "Epoch 12/100\n",
      " - 0s - loss: 1.0538 - accuracy: 0.5527\n",
      "Epoch 13/100\n",
      " - 0s - loss: 1.0410 - accuracy: 0.5595\n",
      "Epoch 14/100\n",
      " - 0s - loss: 1.0429 - accuracy: 0.5589\n",
      "Epoch 15/100\n",
      " - 0s - loss: 1.0335 - accuracy: 0.5521\n",
      "Epoch 16/100\n",
      " - 0s - loss: 1.0302 - accuracy: 0.5611\n",
      "Epoch 17/100\n",
      " - 0s - loss: 1.0266 - accuracy: 0.5636\n",
      "Epoch 18/100\n",
      " - 0s - loss: 1.0217 - accuracy: 0.5647\n",
      "Epoch 19/100\n",
      " - 0s - loss: 1.0167 - accuracy: 0.5641\n",
      "Epoch 20/100\n",
      " - 0s - loss: 1.0076 - accuracy: 0.5728\n",
      "Epoch 21/100\n",
      " - 0s - loss: 1.0122 - accuracy: 0.5693\n",
      "Epoch 22/100\n",
      " - 0s - loss: 1.0059 - accuracy: 0.5720\n",
      "Epoch 23/100\n",
      " - 0s - loss: 0.9989 - accuracy: 0.5674\n",
      "Epoch 24/100\n",
      " - 0s - loss: 0.9921 - accuracy: 0.5720\n",
      "Epoch 25/100\n",
      " - 0s - loss: 0.9914 - accuracy: 0.5821\n",
      "Epoch 26/100\n",
      " - 0s - loss: 0.9970 - accuracy: 0.5772\n",
      "Epoch 27/100\n",
      " - 0s - loss: 0.9890 - accuracy: 0.5802\n",
      "Epoch 28/100\n",
      " - 0s - loss: 0.9862 - accuracy: 0.5826\n",
      "Epoch 29/100\n",
      " - 0s - loss: 0.9824 - accuracy: 0.5742\n",
      "Epoch 30/100\n",
      " - 0s - loss: 0.9757 - accuracy: 0.5848\n",
      "Epoch 31/100\n",
      " - 0s - loss: 0.9645 - accuracy: 0.5854\n",
      "Epoch 32/100\n",
      " - 0s - loss: 0.9736 - accuracy: 0.5739\n",
      "Epoch 33/100\n",
      " - 0s - loss: 0.9578 - accuracy: 0.5864\n",
      "Epoch 34/100\n",
      " - 0s - loss: 0.9570 - accuracy: 0.5911\n",
      "Epoch 35/100\n",
      " - 0s - loss: 0.9486 - accuracy: 0.5886\n",
      "Epoch 36/100\n",
      " - 0s - loss: 0.9388 - accuracy: 0.5957\n",
      "Epoch 37/100\n",
      " - 0s - loss: 0.9394 - accuracy: 0.5984\n",
      "Epoch 38/100\n",
      " - 0s - loss: 0.9325 - accuracy: 0.6044\n",
      "Epoch 39/100\n",
      " - 0s - loss: 0.9279 - accuracy: 0.5987\n",
      "Epoch 40/100\n",
      " - 0s - loss: 0.9233 - accuracy: 0.6036\n",
      "Epoch 41/100\n",
      " - 0s - loss: 0.9178 - accuracy: 0.6011\n",
      "Epoch 42/100\n",
      " - 0s - loss: 0.9170 - accuracy: 0.5995\n",
      "Epoch 43/100\n",
      " - 0s - loss: 0.9123 - accuracy: 0.6074\n",
      "Epoch 44/100\n",
      " - 0s - loss: 0.9047 - accuracy: 0.6107\n",
      "Epoch 45/100\n",
      " - 0s - loss: 0.9208 - accuracy: 0.6036\n",
      "Epoch 46/100\n",
      " - 0s - loss: 0.8990 - accuracy: 0.6148\n",
      "Epoch 47/100\n",
      " - 0s - loss: 0.8931 - accuracy: 0.6153\n",
      "Epoch 48/100\n",
      " - 0s - loss: 0.8822 - accuracy: 0.6169\n",
      "Epoch 49/100\n",
      " - 0s - loss: 0.8860 - accuracy: 0.6186\n",
      "Epoch 50/100\n",
      " - 0s - loss: 0.8698 - accuracy: 0.6346\n",
      "Epoch 51/100\n",
      " - 0s - loss: 0.8670 - accuracy: 0.6300\n",
      "Epoch 52/100\n",
      " - 0s - loss: 0.8653 - accuracy: 0.6352\n",
      "Epoch 53/100\n",
      " - 0s - loss: 0.8575 - accuracy: 0.6303\n",
      "Epoch 54/100\n",
      " - 0s - loss: 0.8625 - accuracy: 0.6281\n",
      "Epoch 55/100\n",
      " - 0s - loss: 0.8540 - accuracy: 0.6333\n",
      "Epoch 56/100\n",
      " - 0s - loss: 0.8501 - accuracy: 0.6401\n",
      "Epoch 57/100\n",
      " - 0s - loss: 0.8373 - accuracy: 0.6463\n",
      "Epoch 58/100\n",
      " - 0s - loss: 0.8342 - accuracy: 0.6444\n",
      "Epoch 59/100\n",
      " - 0s - loss: 0.8267 - accuracy: 0.6499\n",
      "Epoch 60/100\n",
      " - 0s - loss: 0.8266 - accuracy: 0.6425\n",
      "Epoch 61/100\n",
      " - 0s - loss: 0.8153 - accuracy: 0.6551\n",
      "Epoch 62/100\n",
      " - 0s - loss: 0.8105 - accuracy: 0.6613\n",
      "Epoch 63/100\n",
      " - 0s - loss: 0.8078 - accuracy: 0.6545\n",
      "Epoch 64/100\n",
      " - 0s - loss: 0.8007 - accuracy: 0.6692\n",
      "Epoch 65/100\n",
      " - 0s - loss: 0.7894 - accuracy: 0.6646\n",
      "Epoch 66/100\n",
      " - 0s - loss: 0.7888 - accuracy: 0.6662\n",
      "Epoch 67/100\n",
      " - 0s - loss: 0.7760 - accuracy: 0.6706\n",
      "Epoch 68/100\n",
      " - 0s - loss: 0.7700 - accuracy: 0.6689\n",
      "Epoch 69/100\n",
      " - 0s - loss: 0.7563 - accuracy: 0.6806\n",
      "Epoch 70/100\n",
      " - 0s - loss: 0.7528 - accuracy: 0.6793\n",
      "Epoch 71/100\n",
      " - 0s - loss: 0.7476 - accuracy: 0.6883\n",
      "Epoch 72/100\n",
      " - 0s - loss: 0.7507 - accuracy: 0.6842\n",
      "Epoch 73/100\n",
      " - 0s - loss: 0.7494 - accuracy: 0.6888\n",
      "Epoch 74/100\n",
      " - 0s - loss: 0.7315 - accuracy: 0.6970\n",
      "Epoch 75/100\n",
      " - 0s - loss: 0.7264 - accuracy: 0.6959\n",
      "Epoch 76/100\n",
      " - 0s - loss: 0.7239 - accuracy: 0.7016\n",
      "Epoch 77/100\n",
      " - 0s - loss: 0.7223 - accuracy: 0.7065\n",
      "Epoch 78/100\n",
      " - 0s - loss: 0.7033 - accuracy: 0.7114\n",
      "Epoch 79/100\n",
      " - 0s - loss: 0.7025 - accuracy: 0.7079\n",
      "Epoch 80/100\n",
      " - 0s - loss: 0.6956 - accuracy: 0.7160\n",
      "Epoch 81/100\n",
      " - 0s - loss: 0.6756 - accuracy: 0.7196\n",
      "Epoch 82/100\n",
      " - 0s - loss: 0.6764 - accuracy: 0.7250\n",
      "Epoch 83/100\n",
      " - 0s - loss: 0.6753 - accuracy: 0.7253\n",
      "Epoch 84/100\n",
      " - 0s - loss: 0.6798 - accuracy: 0.7196\n",
      "Epoch 85/100\n",
      " - 0s - loss: 0.6535 - accuracy: 0.7294\n",
      "Epoch 86/100\n",
      " - 0s - loss: 0.6605 - accuracy: 0.7220\n",
      "Epoch 87/100\n",
      " - 0s - loss: 0.6430 - accuracy: 0.7291\n",
      "Epoch 88/100\n",
      " - 0s - loss: 0.6425 - accuracy: 0.7307\n",
      "Epoch 89/100\n",
      " - 0s - loss: 0.6329 - accuracy: 0.7479\n",
      "Epoch 90/100\n",
      " - 0s - loss: 0.6332 - accuracy: 0.7408\n",
      "Epoch 91/100\n",
      " - 0s - loss: 0.6175 - accuracy: 0.7454\n",
      "Epoch 92/100\n",
      " - 0s - loss: 0.6132 - accuracy: 0.7449\n",
      "Epoch 93/100\n",
      " - 0s - loss: 0.6015 - accuracy: 0.7528\n",
      "Epoch 94/100\n",
      " - 0s - loss: 0.5939 - accuracy: 0.7648\n",
      "Epoch 95/100\n",
      " - 0s - loss: 0.5937 - accuracy: 0.7596\n",
      "Epoch 96/100\n",
      " - 0s - loss: 0.5804 - accuracy: 0.7645\n",
      "Epoch 97/100\n",
      " - 0s - loss: 0.5757 - accuracy: 0.7697\n",
      "Epoch 98/100\n",
      " - 0s - loss: 0.5592 - accuracy: 0.7713\n",
      "Epoch 99/100\n",
      " - 0s - loss: 0.5654 - accuracy: 0.7683\n",
      "Epoch 100/100\n",
      " - 0s - loss: 0.5495 - accuracy: 0.7825\n"
     ]
    },
    {
     "data": {
      "text/plain": [
       "<keras.callbacks.callbacks.History at 0x20678abdd30>"
      ]
     },
     "execution_count": 24,
     "metadata": {},
     "output_type": "execute_result"
    }
   ],
   "source": [
    "model.fit(\n",
    "    X_train_scaled,\n",
    "    y_train_categorical,\n",
    "    epochs=100,\n",
    "    shuffle=True,\n",
    "    verbose=2\n",
    ")"
   ]
  },
  {
   "cell_type": "markdown",
   "metadata": {},
   "source": [
    "## Quantify our Trained Model"
   ]
  },
  {
   "cell_type": "code",
   "execution_count": 25,
   "metadata": {},
   "outputs": [
    {
     "name": "stdout",
     "output_type": "stream",
     "text": [
      "Normal Neural Network - Loss: 1.1868860113864041, Accuracy: 0.5975510478019714\n"
     ]
    }
   ],
   "source": [
    "model_loss, model_accuracy = model.evaluate(\n",
    "    X_test_scaled, y_test_categorical, verbose=2)\n",
    "print(\n",
    "    f\"Normal Neural Network - Loss: {model_loss}, Accuracy: {model_accuracy}\")"
   ]
  },
  {
   "cell_type": "markdown",
   "metadata": {
    "slideshow": {
     "slide_type": "subslide"
    }
   },
   "source": [
    "## Make Predictions"
   ]
  },
  {
   "cell_type": "code",
   "execution_count": 26,
   "metadata": {
    "nbgrader": {
     "grade": false,
     "grade_id": "cell-f97eb3e97245187b",
     "locked": false,
     "schema_version": 1,
     "solution": true
    },
    "slideshow": {
     "slide_type": "fragment"
    }
   },
   "outputs": [],
   "source": [
    "encoded_predictions = model.predict_classes(X_test_scaled[:5])\n",
    "prediction_labels = label_encoder.inverse_transform(encoded_predictions)"
   ]
  },
  {
   "cell_type": "code",
   "execution_count": 27,
   "metadata": {},
   "outputs": [
    {
     "name": "stdout",
     "output_type": "stream",
     "text": [
      "Predicted classes: [array([0., 0., 1., 0., 0., 0., 0.], dtype=float32), array([1., 0., 0., 0., 0., 0., 0.], dtype=float32), array([0., 0., 0., 1., 0., 0., 0.], dtype=float32), array([0., 0., 1., 0., 0., 0., 0.], dtype=float32), array([0., 0., 0., 1., 0., 0., 0.], dtype=float32)]\n",
      "Actual Labels: [8, 5, 7, 5, 5]\n"
     ]
    }
   ],
   "source": [
    "print(f\"Predicted classes: {list(y_train_categorical[:5])}\")\n",
    "print(f\"Actual Labels: {list(y_test[:5])}\")"
   ]
  },
  {
   "cell_type": "code",
   "execution_count": 28,
   "metadata": {},
   "outputs": [],
   "source": [
    "# Save the model\n",
    "model.save('whitewinequality_model_trained.h5')"
   ]
  },
  {
   "cell_type": "code",
   "execution_count": 29,
   "metadata": {},
   "outputs": [],
   "source": [
    "# Load the model\n",
    "from keras.models import load_model\n",
    "survey_model = load_model('whitewinequality_model_trained.h5')"
   ]
  },
  {
   "cell_type": "code",
   "execution_count": 30,
   "metadata": {},
   "outputs": [
    {
     "name": "stdout",
     "output_type": "stream",
     "text": [
      "Loaded Model Loss: 1.1868860113864041, Accuracy: 0.5975510478019714\n"
     ]
    }
   ],
   "source": [
    "#Evaluate\n",
    "model_loss, model_accuracy = survey_model.evaluate(\n",
    "    X_test_scaled, y_test_categorical, verbose=2\n",
    ")\n",
    "\n",
    "print(f'Loaded Model Loss: {model_loss}, Accuracy: {model_accuracy}')"
   ]
  },
  {
   "cell_type": "code",
   "execution_count": null,
   "metadata": {},
   "outputs": [],
   "source": []
  }
 ],
 "metadata": {
  "kernelspec": {
   "display_name": "Python 3",
   "language": "python",
   "name": "python3"
  },
  "language_info": {
   "codemirror_mode": {
    "name": "ipython",
    "version": 3
   },
   "file_extension": ".py",
   "mimetype": "text/x-python",
   "name": "python",
   "nbconvert_exporter": "python",
   "pygments_lexer": "ipython3",
   "version": "3.6.8"
  },
  "varInspector": {
   "cols": {
    "lenName": 16,
    "lenType": 16,
    "lenVar": 40
   },
   "kernels_config": {
    "python": {
     "delete_cmd_postfix": "",
     "delete_cmd_prefix": "del ",
     "library": "var_list.py",
     "varRefreshCmd": "print(var_dic_list())"
    },
    "r": {
     "delete_cmd_postfix": ") ",
     "delete_cmd_prefix": "rm(",
     "library": "var_list.r",
     "varRefreshCmd": "cat(var_dic_list()) "
    }
   },
   "types_to_exclude": [
    "module",
    "function",
    "builtin_function_or_method",
    "instance",
    "_Feature"
   ],
   "window_display": false
  }
 },
 "nbformat": 4,
 "nbformat_minor": 2
}
